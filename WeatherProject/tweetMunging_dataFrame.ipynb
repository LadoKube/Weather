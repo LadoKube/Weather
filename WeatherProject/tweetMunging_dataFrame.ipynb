{
 "cells": [
  {
   "cell_type": "code",
   "execution_count": 1,
   "metadata": {
    "collapsed": true
   },
   "outputs": [],
   "source": [
    "import pyodbc\n",
    "import json\n",
    "\n",
    "# DSN means data source name\n",
    "connection = pyodbc.connect('DSN=kubricksql')\n",
    "cursor = connection.cursor()\n",
    "\n",
    "cursor.execute('select Tweet from dbo.Friday1609')\n",
    "\n",
    "rows = cursor.fetchall() # gets all the rows from the tweet column\n",
    "\n",
    "tweet_list =[]\n",
    "\n",
    "# This creates a list of dictionaries \n",
    "for r in rows:\n",
    "    tweet_list.append(json.loads(r[0]))"
   ]
  },
  {
   "cell_type": "code",
   "execution_count": 6,
   "metadata": {
    "collapsed": false
   },
   "outputs": [],
   "source": [
    "# get pandas so that you can turn this into a data frame\n",
    "from pandas import DataFrame, Series\n",
    "import pandas as pd\n",
    "\n",
    "friday_tweetTable = DataFrame(tweet_list)"
   ]
  },
  {
   "cell_type": "code",
   "execution_count": 8,
   "metadata": {
    "collapsed": false
   },
   "outputs": [
    {
     "name": "stdout",
     "output_type": "stream",
     "text": [
      "<class 'pandas.core.frame.DataFrame'>\n",
      "RangeIndex: 50 entries, 0 to 49\n",
      "Data columns (total 31 columns):\n",
      "contributors                 0 non-null object\n",
      "coordinates                  0 non-null object\n",
      "created_at                   50 non-null object\n",
      "entities                     50 non-null object\n",
      "extended_entities            5 non-null object\n",
      "favorite_count               50 non-null int64\n",
      "favorited                    50 non-null bool\n",
      "filter_level                 50 non-null object\n",
      "geo                          0 non-null object\n",
      "id                           50 non-null int64\n",
      "id_str                       50 non-null object\n",
      "in_reply_to_screen_name      4 non-null object\n",
      "in_reply_to_status_id        2 non-null float64\n",
      "in_reply_to_status_id_str    2 non-null object\n",
      "in_reply_to_user_id          4 non-null float64\n",
      "in_reply_to_user_id_str      4 non-null object\n",
      "is_quote_status              50 non-null bool\n",
      "lang                         50 non-null object\n",
      "place                        3 non-null object\n",
      "possibly_sensitive           18 non-null object\n",
      "quoted_status                6 non-null object\n",
      "quoted_status_id             6 non-null float64\n",
      "quoted_status_id_str         6 non-null object\n",
      "retweet_count                50 non-null int64\n",
      "retweeted                    50 non-null bool\n",
      "retweeted_status             22 non-null object\n",
      "source                       50 non-null object\n",
      "text                         50 non-null object\n",
      "timestamp_ms                 50 non-null object\n",
      "truncated                    50 non-null bool\n",
      "user                         50 non-null object\n",
      "dtypes: bool(4), float64(3), int64(3), object(21)\n",
      "memory usage: 10.8+ KB\n"
     ]
    }
   ],
   "source": [
    "# This tells you all the columns in the df\n",
    "friday_tweetTable.info()"
   ]
  },
  {
   "cell_type": "code",
   "execution_count": 11,
   "metadata": {
    "collapsed": false
   },
   "outputs": [
    {
     "data": {
      "text/plain": [
       "{u'hashtags': [],\n",
       " u'media': [{u'display_url': u'pic.twitter.com/d5cK48gQcU',\n",
       "   u'expanded_url': u'https://twitter.com/JBiggsAFC/status/776692837299720192/photo/1',\n",
       "   u'id': 776692802730196992L,\n",
       "   u'id_str': u'776692802730196992',\n",
       "   u'indices': [89, 112],\n",
       "   u'media_url': u'http://pbs.twimg.com/media/Csdd_S5WAAAatl_.jpg',\n",
       "   u'media_url_https': u'https://pbs.twimg.com/media/Csdd_S5WAAAatl_.jpg',\n",
       "   u'sizes': {u'large': {u'h': 1920, u'resize': u'fit', u'w': 1080},\n",
       "    u'medium': {u'h': 1200, u'resize': u'fit', u'w': 675},\n",
       "    u'small': {u'h': 680, u'resize': u'fit', u'w': 383},\n",
       "    u'thumb': {u'h': 150, u'resize': u'crop', u'w': 150}},\n",
       "   u'type': u'photo',\n",
       "   u'url': u'https://t.co/d5cK48gQcU'}],\n",
       " u'symbols': [],\n",
       " u'urls': [],\n",
       " u'user_mentions': []}"
      ]
     },
     "execution_count": 11,
     "metadata": {},
     "output_type": "execute_result"
    }
   ],
   "source": [
    "# Inspecting the entities row\n",
    "friday_tweetTable['entities'][0]"
   ]
  },
  {
   "cell_type": "code",
   "execution_count": 13,
   "metadata": {
    "collapsed": false
   },
   "outputs": [],
   "source": [
    "# NB: dropna() drops all the rows that contain null values\n",
    "# just testing what dropna() does\n",
    "a = friday_tweetTable.dropna()"
   ]
  },
  {
   "cell_type": "code",
   "execution_count": 38,
   "metadata": {
    "collapsed": false
   },
   "outputs": [],
   "source": [
    "friday_slimTweet = DataFrame(friday_tweetTable[['id','id_str', 'created_at', 'text', 'retweeted']])"
   ]
  },
  {
   "cell_type": "code",
   "execution_count": 40,
   "metadata": {
    "collapsed": false
   },
   "outputs": [
    {
     "data": {
      "text/html": [
       "<div>\n",
       "<table border=\"1\" class=\"dataframe\">\n",
       "  <thead>\n",
       "    <tr style=\"text-align: right;\">\n",
       "      <th></th>\n",
       "      <th>id</th>\n",
       "      <th>id_str</th>\n",
       "      <th>created_at</th>\n",
       "      <th>text</th>\n",
       "      <th>retweeted</th>\n",
       "    </tr>\n",
       "  </thead>\n",
       "  <tbody>\n",
       "    <tr>\n",
       "      <th>0</th>\n",
       "      <td>776692837299720192</td>\n",
       "      <td>776692837299720192</td>\n",
       "      <td>Fri Sep 16 08:02:57 +0000 2016</td>\n",
       "      <td>Love thunder and lightning shame I missed it i...</td>\n",
       "      <td>False</td>\n",
       "    </tr>\n",
       "    <tr>\n",
       "      <th>1</th>\n",
       "      <td>776693518681137152</td>\n",
       "      <td>776693518681137152</td>\n",
       "      <td>Fri Sep 16 08:05:39 +0000 2016</td>\n",
       "      <td>Yep. 4:30am. Monsoon rain. Crazy fakin Lightni...</td>\n",
       "      <td>False</td>\n",
       "    </tr>\n",
       "    <tr>\n",
       "      <th>2</th>\n",
       "      <td>776695878149140480</td>\n",
       "      <td>776695878149140480</td>\n",
       "      <td>Fri Sep 16 08:15:02 +0000 2016</td>\n",
       "      <td>RT @JoshLachkovic: Thunderstorms this morning ...</td>\n",
       "      <td>False</td>\n",
       "    </tr>\n",
       "    <tr>\n",
       "      <th>3</th>\n",
       "      <td>776699880979005440</td>\n",
       "      <td>776699880979005440</td>\n",
       "      <td>Fri Sep 16 08:30:56 +0000 2016</td>\n",
       "      <td>RT @MrRoflWaffles: Absolutely insane storm her...</td>\n",
       "      <td>False</td>\n",
       "    </tr>\n",
       "    <tr>\n",
       "      <th>4</th>\n",
       "      <td>776700289185378304</td>\n",
       "      <td>776700289185378304</td>\n",
       "      <td>Fri Sep 16 08:32:33 +0000 2016</td>\n",
       "      <td>RT @Memz_Dogi: Thought ISIS were dropping an a...</td>\n",
       "      <td>False</td>\n",
       "    </tr>\n",
       "  </tbody>\n",
       "</table>\n",
       "</div>"
      ],
      "text/plain": [
       "                   id              id_str                      created_at  \\\n",
       "0  776692837299720192  776692837299720192  Fri Sep 16 08:02:57 +0000 2016   \n",
       "1  776693518681137152  776693518681137152  Fri Sep 16 08:05:39 +0000 2016   \n",
       "2  776695878149140480  776695878149140480  Fri Sep 16 08:15:02 +0000 2016   \n",
       "3  776699880979005440  776699880979005440  Fri Sep 16 08:30:56 +0000 2016   \n",
       "4  776700289185378304  776700289185378304  Fri Sep 16 08:32:33 +0000 2016   \n",
       "\n",
       "                                                text retweeted  \n",
       "0  Love thunder and lightning shame I missed it i...     False  \n",
       "1  Yep. 4:30am. Monsoon rain. Crazy fakin Lightni...     False  \n",
       "2  RT @JoshLachkovic: Thunderstorms this morning ...     False  \n",
       "3  RT @MrRoflWaffles: Absolutely insane storm her...     False  \n",
       "4  RT @Memz_Dogi: Thought ISIS were dropping an a...     False  "
      ]
     },
     "execution_count": 40,
     "metadata": {},
     "output_type": "execute_result"
    }
   ],
   "source": [
    "friday_slimTweet.head(5)"
   ]
  },
  {
   "cell_type": "code",
   "execution_count": 54,
   "metadata": {
    "collapsed": false
   },
   "outputs": [
    {
     "data": {
      "text/plain": [
       "unicode"
      ]
     },
     "execution_count": 54,
     "metadata": {},
     "output_type": "execute_result"
    }
   ],
   "source": [
    "type(friday_slimTweet['created_at'][0])"
   ]
  },
  {
   "cell_type": "code",
   "execution_count": 36,
   "metadata": {
    "collapsed": false
   },
   "outputs": [
    {
     "data": {
      "text/plain": [
       "0     Love thunder and lightning shame I missed it i...\n",
       "1     Yep. 4:30am. Monsoon rain. Crazy fakin Lightni...\n",
       "2     RT @JoshLachkovic: Thunderstorms this morning ...\n",
       "3     RT @MrRoflWaffles: Absolutely insane storm her...\n",
       "4     RT @Memz_Dogi: Thought ISIS were dropping an a...\n",
       "5     RT @Hmz_00: This thunder just woke the whole o...\n",
       "6     Wtf I didn't hear anything  https://t.co/Uuori...\n",
       "7     RT @velvetgh0st: OMG this thunder and lighteni...\n",
       "8     RT @smokez_official: Ur lucky cos if u was in ...\n",
       "9     RT @velvetgh0st: OMG this thunder and lighteni...\n",
       "10    RT @magnetiser: 😱 I'd be impressed if anyone ...\n",
       "11    To everyone back home... This is what came aft...\n",
       "12    @NewHopeGeorge @NewHopeBlake @NewHopeReece Did...\n",
       "13    RT @Hmz_00: This thunder just woke the whole o...\n",
       "14    When #Transformers5 wrapped up filmling in Ari...\n",
       "15    Oh gosh has London had some rain thunder light...\n",
       "16    Apparently it's rain and thunder in London whi...\n",
       "17    Waiting for the longest storm ever to end ! \\n...\n",
       "18    ⛈⛈⛈ OMG London!!! You have a week to sort this...\n",
       "19    The thunder and lightning woke us up very earl...\n",
       "20    Bit of rain and a couple of rumbles of thunder...\n",
       "21    Was there a big thunder/lightening storm over ...\n",
       "22    Enjoyed yesterdays #thunderstorms in London wi...\n",
       "23    The thunder last night shook me down to my Net...\n",
       "24    It's raining... it's pouring #rain #london #um...\n",
       "25    RT @velvetgh0st: OMG this thunder and lighteni...\n",
       "26    Scariest night of my life ohmy 😭😭 https://t....\n",
       "27    RT @velvetgh0st: OMG this thunder and lighteni...\n",
       "28    RT @raginnation: When #Transformers5 wrapped u...\n",
       "29    RT @benjamin_cook: I guess all my London frien...\n",
       "30    RT @velvetgh0st: OMG this thunder and lighteni...\n",
       "31    RT @velvetgh0st: OMG this thunder and lighteni...\n",
       "32                Safe sailing! https://t.co/FTk8hSgLG7\n",
       "33    RT @MrRoflWaffles: Absolutely insane storm her...\n",
       "34    RT @JoshLachkovic: Thunderstorms this morning ...\n",
       "35    RT @MrRoflWaffles: Absolutely insane storm her...\n",
       "36    RT @raginnation: When #Transformers5 wrapped u...\n",
       "37    RT @dearanaaa: I knew I heard thunder + rain t...\n",
       "38    RT @MrRoflWaffles: Absolutely insane storm her...\n",
       "39    RT @Memz_Dogi: Thought ISIS were dropping an a...\n",
       "40    London thunder woke me, so checked #iremember ...\n",
       "41    @Joe_Sugg I loved it joe!! Also did you hear t...\n",
       "42    I knew I heard thunder + rain this morning. Yo...\n",
       "43    Anyone in London hear that Thunder last night?...\n",
       "44    All my friends from west London are tweeting a...\n",
       "45    @fudgecrumpet in SW London it's just a bit of ...\n",
       "46    Welcome to London, where on the Thursday it'll...\n",
       "47    On @OANHSS medical assist/ in dying teaching t...\n",
       "48    All learned from each other during London sess...\n",
       "49    @Joe_Sugg was there thunder at 5am in London l...\n",
       "Name: text, dtype: object"
      ]
     },
     "execution_count": 36,
     "metadata": {},
     "output_type": "execute_result"
    }
   ],
   "source": [
    "friday_tweetTable['text']\n"
   ]
  },
  {
   "cell_type": "code",
   "execution_count": null,
   "metadata": {
    "collapsed": true
   },
   "outputs": [],
   "source": []
  }
 ],
 "metadata": {
  "anaconda-cloud": {},
  "kernelspec": {
   "display_name": "Python [Root]",
   "language": "python",
   "name": "Python [Root]"
  },
  "language_info": {
   "codemirror_mode": {
    "name": "ipython",
    "version": 2
   },
   "file_extension": ".py",
   "mimetype": "text/x-python",
   "name": "python",
   "nbconvert_exporter": "python",
   "pygments_lexer": "ipython2",
   "version": "2.7.12"
  }
 },
 "nbformat": 4,
 "nbformat_minor": 0
}
